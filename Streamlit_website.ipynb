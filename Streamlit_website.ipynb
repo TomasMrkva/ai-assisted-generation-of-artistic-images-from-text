{
  "cells": [
    {
      "cell_type": "markdown",
      "metadata": {
        "id": "view-in-github",
        "colab_type": "text"
      },
      "source": [
        "<a href=\"https://colab.research.google.com/github/TomasMrkva/project/blob/colab-notebooks/Streamlit_website.ipynb\" target=\"_parent\"><img src=\"https://colab.research.google.com/assets/colab-badge.svg\" alt=\"Open In Colab\"/></a>"
      ]
    },
    {
      "cell_type": "code",
      "execution_count": 2,
      "metadata": {
        "colab": {
          "base_uri": "https://localhost:8080/"
        },
        "id": "bZbaNyNUuZug",
        "outputId": "da986cad-13ed-4c2c-fcfa-037f5a3ea90b"
      },
      "outputs": [
        {
          "output_type": "stream",
          "name": "stdout",
          "text": [
            "GPU 0: Tesla P100-PCIE-16GB (UUID: GPU-393540a8-2e44-0109-479a-02db871a2e50)\n"
          ]
        }
      ],
      "source": [
        "!nvidia-smi -L "
      ]
    },
    {
      "cell_type": "code",
      "execution_count": 3,
      "metadata": {
        "colab": {
          "base_uri": "https://localhost:8080/",
          "height": 104
        },
        "id": "iC8Xsm7nFI_b",
        "outputId": "1c41512d-6c69-4ae4-951d-6b3352e955a8",
        "cellView": "form"
      },
      "outputs": [
        {
          "output_type": "display_data",
          "data": {
            "text/plain": [
              "<IPython.core.display.Javascript object>"
            ],
            "application/javascript": [
              "\n",
              "function ClickConnect(){\n",
              "console.log(\"Working\");\n",
              "document.querySelector(\"colab-toolbar-button#connect\").click()\n",
              "}\n",
              "setInterval(ClickConnect,60000)\n"
            ]
          },
          "metadata": {}
        },
        {
          "output_type": "stream",
          "name": "stdout",
          "text": [
            "  Building wheel for DifferentiableSketching (setup.py) ... \u001b[?25l\u001b[?25hdone\n",
            "\u001b[31mERROR: pip's dependency resolver does not currently take into account all the packages that are installed. This behaviour is the source of the following dependency conflicts.\n",
            "albumentations 0.1.12 requires imgaug<0.2.7,>=0.2.5, but you have imgaug 0.2.9 which is incompatible.\u001b[0m\n",
            "\u001b[K     |████████████████████████████████| 53 kB 1.1 MB/s \n",
            "\u001b[?25h  Building wheel for clip (setup.py) ... \u001b[?25l\u001b[?25hdone\n"
          ]
        }
      ],
      "source": [
        "#@markdown #**Install libraries**\n",
        "\n",
        "import IPython\n",
        "js_code = '''\n",
        "function ClickConnect(){\n",
        "console.log(\"Working\");\n",
        "document.querySelector(\"colab-toolbar-button#connect\").click()\n",
        "}\n",
        "setInterval(ClickConnect,60000)\n",
        "'''\n",
        "display(IPython.display.Javascript(js_code))\n",
        "\n",
        "!pip install -q stqdm &> /dev/null\n",
        "!pip install -q git+https://github.com/TomasMrkva/DifferentiableSketching.git &> /dev/null\n",
        "!pip install -q torch>=1.7.0 setuptools>=50.3.1 quickdraw>=0.1.0 numpy>=1.19.2 pillow>=8.0.1 tqdm>=4.54.1 pyx>=0.15 torchvision>=0.8.1 matplotlib>=3.3.2 requests>=2.25.0 ipython>=7.19.0 torchbearer>=0.5.3.dev0 lpips>=0.1.2 scikit-learn>=0.24.1 scikit-image~=0.17.2 celluloid &> /dev/null\n",
        "!pip install -q git+https://github.com/openai/CLIP.git &> /dev/null\n",
        "!pip install streamlit -q &> /dev/null"
      ]
    },
    {
      "cell_type": "code",
      "source": [
        "#@markdown #**Streamlit code**\n",
        "%%writefile ui.py\n",
        "import streamlit as st\n",
        "from random import randint\n",
        "from streamlit import session_state as state\n",
        "from io import StringIO\n",
        "from drawing import predict\n",
        "import os\n",
        "import torch\n",
        "import clip\n",
        "# from inotify_simple import INotify, flags\n",
        "import json\n",
        "# from atomicwrites import atomic_write\n",
        "from time import sleep\n",
        "from os.path import exists\n",
        "from utils import atomic_write\n",
        "\n",
        "\n",
        "hide_menu_style = \"\"\"\n",
        "        <style>\n",
        "        #MainMenu {visibility: hidden; }\n",
        "        </style> \"\"\"\n",
        "st.markdown(hide_menu_style, unsafe_allow_html=True)\n",
        "\n",
        "st.header(\"Text-to-paiting/drawing generation\")\n",
        "st.write(\"OpenAI's CLIP + Differential Drawing\")\n",
        "myform = st.empty()\n",
        "summarizations_form = st.empty()\n",
        "chart_checkbox = st.empty()\n",
        "\n",
        "@st.cache\n",
        "def load_clip():\n",
        "    state.model, _ = clip.load('ViT-B/32', torch.device('cuda'), jit=False)\n",
        "\n",
        "if 'checkbox_val' not in st.session_state:\n",
        "    state.checkbox_val = False\n",
        "    state.uploaded_file = str(randint(0,10000))\n",
        "    state.lines = 425\n",
        "    state.iters = 400\n",
        "    state.prompt = \"\"\n",
        "    state.main_screen = True\n",
        "    state.summarizations_screen = False\n",
        "    state.running_screen = False\n",
        "    state.radiobox = \"\"\n",
        "    load_clip()\n",
        "\n",
        "def checkbox_click():\n",
        "    state.checkbox_val = not state.checkbox_val\n",
        "\n",
        "def main_screen_submit(lines, iters, prompt, summarizations=False):\n",
        "    chart_checkbox.empty()\n",
        "    myform.empty()\n",
        "    state.lines = lines\n",
        "    state.iters = iters\n",
        "    state.prompt = prompt\n",
        "    state.main_screen = False\n",
        "    if summarizations:\n",
        "        state.summarizations_screen = True\n",
        "    else:\n",
        "        state.running_screen = True\n",
        "    main()\n",
        "\n",
        "def summarizations_screen_submit():\n",
        "    state.main_screen = False\n",
        "    state.summarizations_screen = False\n",
        "    state.running_screen = True\n",
        "    state.prompt = state.radiobox\n",
        "    main()\n",
        "\n",
        "def restart():\n",
        "    state.prompt = \"\"\n",
        "    state.main_screen = True\n",
        "    main()\n",
        "\n",
        "def main():\n",
        "    if state.main_screen:\n",
        "        state.summarizations_screen = False\n",
        "        state.running_screen = False\n",
        "    elif state.summarizations_screen:\n",
        "        state.running_screen = False\n",
        "\n",
        "if state.main_screen:\n",
        "    chart_checkbox.checkbox('Insert book paragraph or chapter', value=state.checkbox_val, on_change=checkbox_click)\n",
        "    if state.checkbox_val:\n",
        "        with myform.form(key='form-charts'):\n",
        "            lines = st.slider(\"Number of lines\", value = state.lines, min_value = 100, max_value = 850, step = 10)\n",
        "            iters = st.slider(\"Number of iterations\", value = state.iters, min_value = 100, max_value = 1000, step = 10)\n",
        "            prompt = st.text_area(\"Paste the chapter contents here...\", height=200)\n",
        "            uploaded_file = st.file_uploader(\"or upload .txt file\", type=\"txt\", key=st.session_state.uploaded_file)\n",
        "            submit = st.form_submit_button(\"Submit\")\n",
        "        if submit:\n",
        "            string = \"\"\n",
        "            if not prompt and uploaded_file is None:\n",
        "                st.error('Please insert a chapter content.')\n",
        "                st.stop()\n",
        "            elif uploaded_file is not None:\n",
        "                stringio = StringIO(uploaded_file.getvalue().decode(\"utf-8\"))\n",
        "                string_data = stringio.read()\n",
        "                state.uploaded_file = str(randint(0,10000))\n",
        "                string = string_data\n",
        "            else:\n",
        "                string = prompt\n",
        "            main_screen_submit(lines, iters, string, summarizations=True)\n",
        "    else:\n",
        "        with myform.form(key='form-custom'):\n",
        "            lines = st.slider(\"Number of lines\", value = state.lines, min_value = 100, max_value = 850, step = 10)\n",
        "            iters = st.slider(\"Number of iterations\", value = state.iters, min_value = 100, max_value = 1000, step = 10)\n",
        "            prompt = st.text_input(\"Insert a text prompt for the drawing here\", max_chars=100)\n",
        "            submit = st.form_submit_button(\"Submit\")\n",
        "        if submit:\n",
        "            if not prompt:\n",
        "                st.error('Please insert a prompt.')\n",
        "                st.stop()\n",
        "            main_screen_submit(lines, iters, prompt)\n",
        "\n",
        "if state.summarizations_screen:\n",
        "    with st.spinner('Generating the prompts from the text...'):\n",
        "        atomic_write(state.prompt,'drive/MyDrive/3rd_yr_project/text_to_summarise.txt')\n",
        "        while os.stat(\"drive/MyDrive/3rd_yr_project/prompts.json\").st_size == 0:\n",
        "          sleep(2)\n",
        "        sleep(2)\n",
        "        with open('drive/MyDrive/3rd_yr_project/prompts.json', 'r+') as f:\n",
        "            data = json.load(f)\n",
        "            f.truncate(0)\n",
        "        if (len(data) != 4): print('error')\n",
        "        headline = data['headline']\n",
        "        yake_kw = data['yake']\n",
        "        rake_kw = data['rake']\n",
        "        bert_kw = data['bert']\n",
        "    with summarizations_form.form(key='summarizations_form'):\n",
        "        prompt = st.radio(\n",
        "            \"Choose one of the generated prompts\",\n",
        "            (headline, yake_kw, rake_kw, bert_kw), key='radiobox')\n",
        "        st.form_submit_button(\"Submit\", on_click=summarizations_screen_submit)\n",
        "    st.button('Back', on_click=restart)\n",
        "\n",
        "if state.running_screen:\n",
        "    summarizations_form.empty()\n",
        "    clip_sim = predict(state.model, prompt=state.prompt, update={}, lines=state.lines, iters=state.iters)\n",
        "    st.success('Done, the clip similarity for a best image was: ' + str(clip_sim))\n",
        "    st.button(\"Try again\", on_click=restart)\n",
        "    st.stop()\n",
        "\n",
        "if __name__ == \"__main__\":\n",
        "    main()"
      ],
      "metadata": {
        "cellView": "form",
        "id": "09CnZKor90Al"
      },
      "execution_count": null,
      "outputs": []
    },
    {
      "cell_type": "code",
      "source": [
        "!streamlit run ui.py & npx localtunnel --port 8501"
      ],
      "metadata": {
        "colab": {
          "base_uri": "https://localhost:8080/"
        },
        "id": "SiUp2TFF3tNT",
        "outputId": "31eaa455-7598-4c30-f562-6d981149c653"
      },
      "execution_count": null,
      "outputs": [
        {
          "output_type": "stream",
          "name": "stdout",
          "text": [
            "2022-04-05 22:44:17.190 INFO    numexpr.utils: NumExpr defaulting to 2 threads.\n",
            "\u001b[K\u001b[?25hnpx: installed 22 in 2.463s\n",
            "your url is: https://selfish-wombat-75.loca.lt\n",
            "\u001b[0m\n",
            "\u001b[34m\u001b[1m  You can now view your Streamlit app in your browser.\u001b[0m\n",
            "\u001b[0m\n",
            "\u001b[34m  Network URL: \u001b[0m\u001b[1mhttp://172.28.0.2:8501\u001b[0m\n",
            "\u001b[34m  External URL: \u001b[0m\u001b[1mhttp://35.224.176.36:8501\u001b[0m\n",
            "\u001b[0m\n",
            "Generating image for a prompt: older brother called dudley | Parameters updated: {}\n",
            "/usr/local/lib/python3.7/dist-packages/torch/functional.py:445: UserWarning: torch.meshgrid: in an upcoming release, it will be required to pass the indexing argument. (Triggered internally at  ../aten/src/ATen/native/TensorShape.cpp:2157.)\n",
            "  return _VF.meshgrid(tensors, **kwargs)  # type: ignore[attr-defined]\n",
            "Generating an image for prompt older brother called dudley: 100% 400/400 [02:47<00:00,  2.39it/s]\n",
            "Generating image for a prompt: The Boy Who Lives | Parameters updated: {}\n",
            "Generating an image for prompt: The Boy Who Lives:  93% 928/1000 [20:19<01:34,  1.31s/it]"
          ]
        }
      ]
    },
    {
      "cell_type": "code",
      "execution_count": null,
      "metadata": {
        "id": "U-Ah2w8h-5RN"
      },
      "outputs": [],
      "source": [
        "#TODO: \n",
        "#keyword keyphrase extraction, KeyBERT\n",
        "#PDF make wider lines\n",
        "#Different transforms\n",
        "#LR annealing\n",
        "#videos"
      ]
    }
  ],
  "metadata": {
    "accelerator": "GPU",
    "colab": {
      "collapsed_sections": [],
      "name": "Streamlit-website.ipynb",
      "provenance": [],
      "mount_file_id": "1npz0oCtScXW_kkD0snXL8X1H7_ZjBpWR",
      "authorship_tag": "ABX9TyM9vd5Sf4U0wz4QgtKi24Vl",
      "include_colab_link": true
    },
    "kernelspec": {
      "display_name": "Python 3",
      "name": "python3"
    },
    "language_info": {
      "name": "python"
    }
  },
  "nbformat": 4,
  "nbformat_minor": 0
}