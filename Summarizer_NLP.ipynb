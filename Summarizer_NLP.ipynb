{
  "nbformat": 4,
  "nbformat_minor": 0,
  "metadata": {
    "colab": {
      "name": "Summarizer_NLP.ipynb",
      "provenance": [],
      "mount_file_id": "1yRjnee0znw__EOWCZtITO4Vmu7-eIdDI",
      "authorship_tag": "ABX9TyMSGCWEQ0cftrjZvEn830cN",
      "include_colab_link": true
    },
    "kernelspec": {
      "name": "python3",
      "display_name": "Python 3"
    },
    "language_info": {
      "name": "python"
    },
    "accelerator": "GPU"
  },
  "cells": [
    {
      "cell_type": "markdown",
      "metadata": {
        "id": "view-in-github",
        "colab_type": "text"
      },
      "source": [
        "<a href=\"https://colab.research.google.com/github/TomasMrkva/project/blob/colab-notebooks/Summarizer_NLP.ipynb\" target=\"_parent\"><img src=\"https://colab.research.google.com/assets/colab-badge.svg\" alt=\"Open In Colab\"/></a>"
      ]
    },
    {
      "cell_type": "code",
      "source": [
        "!nvidia-smi -L"
      ],
      "metadata": {
        "colab": {
          "base_uri": "https://localhost:8080/"
        },
        "id": "jaeIxszQTrSe",
        "outputId": "07d0b3d1-93b3-4a53-9531-f9518b6a43a5"
      },
      "execution_count": 1,
      "outputs": [
        {
          "output_type": "stream",
          "name": "stdout",
          "text": [
            "GPU 0: Tesla P100-PCIE-16GB (UUID: GPU-24bfee76-d7cb-5195-7970-be411ddd35c9)\n"
          ]
        }
      ]
    },
    {
      "cell_type": "code",
      "source": [
        "!pip install -U transformers -q\n",
        "!pip install -U sentencepiece -q\n",
        "!pip install -q keybert multi_rake git+https://github.com/LIAAD/yake\n",
        "!pip install -q atomicwrites"
      ],
      "metadata": {
        "id": "GDmEozAkTlb2"
      },
      "execution_count": 24,
      "outputs": []
    },
    {
      "cell_type": "code",
      "execution_count": null,
      "metadata": {
        "id": "q7ecb_9LTdR4"
      },
      "outputs": [],
      "source": [
        "import pprint as pp\n",
        "import torch\n",
        "from transformers import AutoTokenizer, AutoModelForSeq2SeqLM, T5ForConditionalGeneration, T5Tokenizer\n",
        "from transformers import pipeline\n",
        "import yake\n",
        "from keybert import KeyBERT\n",
        "from multi_rake import Rake\n",
        "\n",
        "kw_model = KeyBERT(model='all-mpnet-base-v2')\n",
        "hf_name = 'pszemraj/led-large-book-summary'\n",
        "summary_model = AutoModelForSeq2SeqLM.from_pretrained(\n",
        "                hf_name,\n",
        "                # low_cpu_mem_usage=True,\n",
        "                )\n",
        "summary_tokenizer = AutoTokenizer.from_pretrained(hf_name)   \n",
        "have_GPU = torch.cuda.is_available()\n",
        "summarizer = pipeline(\"summarization\", model=summary_model, tokenizer=summary_tokenizer, device=0 if have_GPU else -1)\n",
        "\n",
        "device = torch.device(\"cuda\" if torch.cuda.is_available() else \"cpu\")\n",
        "headline_model = T5ForConditionalGeneration.from_pretrained(\"Michau/t5-base-en-generate-headline\")\n",
        "headline_tokenizer = T5Tokenizer.from_pretrained(\"Michau/t5-base-en-generate-headline\")\n",
        "headline_model = headline_model.to(device)\n",
        "\n",
        "def make_headline(summary):\n",
        "  text =  \"headline: \" + summary\n",
        "  encoding = headline_tokenizer.encode_plus(text, return_tensors = \"pt\")\n",
        "  input_ids = encoding[\"input_ids\"].to(device)\n",
        "  attention_masks = encoding[\"attention_mask\"].to(device)\n",
        "  bad_words_ids = headline_tokenizer([\"Book\", \"-\", \"Story\", \"story\", \"Review\", \"Novel\", \"book\", \"novel\", \"review\", \"tale\", \"Tale\", \"A\"], add_special_tokens=False).input_ids   \n",
        "\n",
        "  beam_outputs = headline_model.generate(\n",
        "      bad_words_ids=bad_words_ids,\n",
        "      input_ids = input_ids,\n",
        "      attention_mask = attention_masks,\n",
        "      max_length = 30,\n",
        "      num_beams = 4,\n",
        "      # early_stopping = True,\n",
        "      repetition_penalty = 1.0\n",
        "  )\n",
        "\n",
        "  return headline_tokenizer.decode(beam_outputs[0], skip_special_tokens=True)\n",
        "\n",
        "def summarize_led(text):\n",
        "  print('running')\n",
        "  result = summarizer(\n",
        "            text,\n",
        "            min_length=16, \n",
        "            max_length=450,\n",
        "            no_repeat_ngram_size=3, \n",
        "            encoder_no_repeat_ngram_size =3,\n",
        "            clean_up_tokenization_spaces=True,\n",
        "            repetition_penalty=3.7,\n",
        "            num_beams=4,\n",
        "            early_stopping=True,\n",
        "      )\n",
        "  return result[0]['summary_text']\n",
        "\n",
        "def keyword_extractios(text, n):\n",
        "  yake_kw = yake.KeywordExtractor(top=1, stopwords=None, n=n).extract_keywords(text)[0][0]\n",
        "  rake_kw = Rake(max_words=n).apply(text)[0][0]\n",
        "  bert_kw=kw_model.extract_keywords(text, keyphrase_ngram_range=(1, n), stop_words=None, top_n=1)[0][0]\n",
        "  return yake_kw, rake_kw, bert_kw\n",
        "\n",
        "\n",
        "def run(text):\n",
        "    summary_led = summarize_led(text)\n",
        "    headline = make_headline(summary_led)\n",
        "    yake_kw, rake_kw, bert_kw = keyword_extractios(summary_led, n=8)\n",
        "    return headline, yake_kw, rake_kw, bert_kw"
      ]
    },
    {
      "cell_type": "code",
      "source": [
        "# from inotify_simple import INotify, flags\n",
        "import os\n",
        "import json\n",
        "from time import sleep\n",
        "from os.path import exists\n",
        "import shutil\n",
        "import stat\n",
        "import tempfile\n",
        "\n",
        "def copy_with_metadata(source, target):\n",
        "    \"\"\"Copy file with all its permissions and metadata.\n",
        "    \n",
        "    Lifted from https://stackoverflow.com/a/43761127/2860309\n",
        "    :param source: source file name\n",
        "    :param target: target file name\n",
        "    \"\"\"\n",
        "    # copy content, stat-info (mode too), timestamps...\n",
        "    shutil.copy2(source, target)\n",
        "    # copy owner and group\n",
        "    st = os.stat(source)\n",
        "    os.chown(target, st[stat.ST_UID], st[stat.ST_GID])\n",
        "\n",
        "def atomic_write(file_contents, target_file_path, mode=\"w\"):\n",
        "    \"\"\"Write to a temporary file and rename it to avoid file corruption.\n",
        "    Attribution: @therightstuff, @deichrenner, @hrudham\n",
        "    :param file_contents: contents to be written to file\n",
        "    :param target_file_path: the file to be created or replaced\n",
        "    :param mode: the file mode defaults to \"w\", only \"w\" and \"a\" are supported\n",
        "    \"\"\"\n",
        "    # Use the same directory as the destination file so that moving it across\n",
        "    # file systems does not pose a problem.\n",
        "    temp_file = tempfile.NamedTemporaryFile(\n",
        "        delete=False,\n",
        "        dir=os.path.dirname(target_file_path))\n",
        "    try:\n",
        "        # preserve file metadata if it already exists\n",
        "        if os.path.exists(target_file_path):\n",
        "            copy_with_metadata(target_file_path, temp_file.name)\n",
        "        with open(temp_file.name, mode) as f:\n",
        "            f.write(file_contents)\n",
        "            f.flush()\n",
        "            os.fsync(f.fileno())\n",
        "\n",
        "        os.replace(temp_file.name, target_file_path)\n",
        "    finally:\n",
        "        if os.path.exists(temp_file.name):\n",
        "            try:\n",
        "                os.unlink(temp_file.name)\n",
        "            except:\n",
        "                pass\n",
        "\n",
        "while True:\n",
        "  # for event in inotify.read():\n",
        "  #     break\n",
        "  while os.stat(\"drive/MyDrive/3rd_yr_project/text_to_summarise.txt\").st_size == 0:\n",
        "    sleep(5)\n",
        "  with open('drive/MyDrive/3rd_yr_project/text_to_summarise.txt', 'r+') as f:\n",
        "    text = f.read()\n",
        "    f.truncate(0)\n",
        "  print(text)\n",
        "  headline, yake_kw, rake_kw, bert_kw = run(text)\n",
        "  atomic_write(json.dumps({\"headline\": headline, \"yake\": yake_kw, \"rake\": rake_kw, \"bert\": bert_kw}), 'drive/MyDrive/3rd_yr_project/prompts.json')\n",
        "  print(headline, yake_kw, rake_kw, bert_kw, sep=\"\\n\")"
      ],
      "metadata": {
        "id": "JY0xZkjFT1wc"
      },
      "execution_count": null,
      "outputs": []
    },
    {
      "cell_type": "code",
      "source": [
        "headline, yake_kw, rake_kw, bert_kw = run(text)\n",
        "atomic_write(json.dumps({\"headline\": headline, \"yake\": yake_kw, \"rake\": rake_kw, \"bert\": bert_kw}), 'drive/MyDrive/3rd_yr_project/prompts.json')\n",
        "print(headline, yake_kw, rake_kw, bert_kw, sep=\"\\n\")"
      ],
      "metadata": {
        "id": "trVQ7gx_z7nL"
      },
      "execution_count": null,
      "outputs": []
    }
  ]
}